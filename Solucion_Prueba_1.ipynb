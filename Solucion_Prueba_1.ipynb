{
  "cells": [
    {
      "cell_type": "markdown",
      "metadata": {},
      "source": [
        "<div style=\"background-color: #d1e7dd; padding: 20px; border-radius: 10px;\">\n",
        "        <h1 style=\"color: #000000;\"><b>PRUEBA 1 - SOLUCIÓN</h1>\n",
        "        <h3 style=\"color: #000000;\">Fundamentos 2024 II </h3>\n",
        "        <p style=\"font-size: 18px; color: #000000;\">\n",
        "            <b>INTEGRANTES:</b><br>\n",
        "           \n",
        "        Cristian Jiménez         CC 1020460089\n",
        "        Juan Felipe Quinto Rios  CC 1041152117\n",
        "        Veronica Arango Toro     CC 1039473234\n",
        "\n"
      ]
    },
    {
      "cell_type": "markdown",
      "metadata": {
        "id": "7vGMRorix7fJ"
      },
      "source": [
        "# **Prueba \\#1**\n",
        "\n",
        "En la siguiente pureba se evalua de manera EXCLUSIVA lo que se solicita, cualquier otra respuesta adicional a ella será valorada, más no evaluada. Entregue la prueba en un repositorio de github, o en el classroom antes de el lunes 12 de Agosto a las 00:00:00.\n",
        "\n",
        "**Incluya como encabezado los nombres de los participantes y las cédulas**\n",
        "\n"
      ]
    },
    {
      "cell_type": "markdown",
      "metadata": {},
      "source": [
        "---"
      ]
    },
    {
      "cell_type": "markdown",
      "metadata": {
        "id": "2JiTz8I9yhXB"
      },
      "source": [
        "## **Ejercicio 1** (50 pts)\n",
        "\n",
        "Escriba una clase `Pedido` que pueda ser usada para gestionar la información de los pedidos realizados a una pastelería (o carnicería o tienda de ropa o empresa que ud desee). Evite usar módulos como numpy, pandas o cualquier otro.\n",
        "\n",
        "### **Rubrica**:\n",
        "\n",
        "1. Generación de la clase que funcione correctamente con al menos 2 métodos y 2 atributos. **30 pts**.\n",
        "2. Comentarios y  documentación que sirva para quien deba usar la clase. **5 pts**.\n",
        "3. Pertinencia de la clase en el ámbito, ¿Por qué será útil esta herramienta y cómo ayudará a mejorar el negocio? esta será entregada en una celda de texto. **10 pts**.\n",
        "4. ¿Cree que se pueda construir una clase hija que ayude al proceso? Si sí constrúyala, sino, argumente por qué en una célda de código. **5 pts**."
      ]
    },
    {
      "cell_type": "markdown",
      "metadata": {},
      "source": [
        "----\n",
        "\n",
        "### **Solución Ejercicio 1**"
      ]
    },
    {
      "cell_type": "code",
      "execution_count": 1,
      "metadata": {
        "id": "AgwS8cBnx5Zc"
      },
      "outputs": [],
      "source": [
        "class Pedido:\n",
        "    def __init__(self, producto: str, cantidad: int, precio_unitario: float, nombre_cliente: str, cedula_cliente: int, fecha_pedido: str, hora_pedido: str):\n",
        "        \"\"\"\n",
        "        Constructor padre -  clase Pedido.\n",
        "\n",
        "        Parámetros:\n",
        "        producto (str): Nombre del producto.\n",
        "        cantidad (int): Cantidad de productos solicitados.\n",
        "        precio_unitario (float): Precio unitario del producto.\n",
        "        nombre_cliente (str): Nombre del cliente que realiza el pedido.\n",
        "        cedula_cliente (int): Cédula del cliente.\n",
        "        fecha_pedido (str): Fecha en la que se realiza el pedido (formato 'YYYY-MM-DD').\n",
        "        hora_pedido (str): Hora en la que se realiza el pedido (formato 'HH:MM').\n",
        "        \"\"\"\n",
        "        self.producto = producto\n",
        "        self.cantidad = cantidad\n",
        "        self.precio_unitario = precio_unitario\n",
        "        self.nombre_cliente = nombre_cliente\n",
        "        self.cedula_cliente = cedula_cliente\n",
        "        self.fecha_pedido = fecha_pedido\n",
        "        self.hora_pedido = hora_pedido\n",
        "\n",
        "    def calcularTotal(self):\n",
        "        \"\"\"\n",
        "        Est función calcula el total del pedido.\n",
        "\n",
        "        Retorna:\n",
        "        float: El total del pedido, calculado como la cantidad por el precio unitario.\n",
        "        \"\"\"\n",
        "        return self.cantidad * self.precio_unitario\n",
        "\n",
        "    def codigoPedido(self):\n",
        "        \"\"\"\n",
        "        Genera un código único para el pedido basado en la cédula del cliente, \n",
        "        la fecha del pedido y la hora del pedido.\n",
        "\n",
        "        Retorna:\n",
        "        str: Código único del pedido.\n",
        "        \"\"\"\n",
        "        return str(self.cedula_cliente) + str(self.fecha_pedido) + str(self.hora_pedido)\n",
        "\n",
        "class Factura(Pedido):\n",
        "    def __init__(self, factura, producto: str, cantidad: int, precio_unitario: float, nombre_cliente: str, cedula_cliente: int, fecha_pedido: str, hora_pedido: str):\n",
        "        \"\"\"\n",
        "        Constructor de la clase Factura, que hereda de la clase Pedido.\n",
        "\n",
        "        Parámetros:\n",
        "        factura: Parámetro no utilizado en la implementación actual.\n",
        "        (El resto de parámetros son heredados de la clase Pedido)\n",
        "        \"\"\"\n",
        "        Pedido.__init__(self, producto, cantidad, precio_unitario, nombre_cliente, cedula_cliente, fecha_pedido, hora_pedido)\n",
        "        self.factura = {\n",
        "            \"codigo_pedido\": self.codigoPedido(),\n",
        "            \"producto\": producto,\n",
        "            \"cantidad\": cantidad,\n",
        "            \"total\": self.calcularTotal(),\n",
        "            \"precio_unitario\": precio_unitario,\n",
        "            \"nombre_cliente\": nombre_cliente,\n",
        "            \"cedula_cliente\": cedula_cliente\n",
        "        }\n",
        "\n",
        "    def generarFactura(self):\n",
        "        \"\"\"\n",
        "        Genera una factura como un diccionario con los detalles del pedido.\n",
        "\n",
        "        Retorna:\n",
        "        dict: Diccionario que contiene los detalles de la factura, como el código del pedido,\n",
        "              producto, cantidad, total, precio unitario, nombre del cliente y cédula del cliente.\n",
        "        \"\"\"\n",
        "        return self.factura\n",
        "\n",
        "    def imprimirFactura(self):\n",
        "        \"\"\"\n",
        "        Imprime los detalles de la factura en la consola.\n",
        "        \"\"\"\n",
        "        print(self.factura)\n"
      ]
    },
    {
      "cell_type": "markdown",
      "metadata": {},
      "source": [
        "Para probar la funcionalida de la clase insertamos los atributos bajo el contexto de un panaderia. Posteriormente llamamos a los metodos contenidos dentro de esta clase verificando su funcionalidad \n"
      ]
    },
    {
      "cell_type": "code",
      "execution_count": 2,
      "metadata": {
        "id": "GXjLcOUqjA-W"
      },
      "outputs": [],
      "source": [
        "pedido1 = Pedido(\"Almojábana\", 4, 2000, \"Juan Felipe\", 1234, \"1008\", \"1410\")"
      ]
    },
    {
      "cell_type": "code",
      "execution_count": 3,
      "metadata": {
        "colab": {
          "base_uri": "https://localhost:8080/",
          "height": 36
        },
        "id": "4W77J0IvtbdV",
        "outputId": "9b2a7cfb-4a04-4ea3-f776-7e33ae2e3bd5"
      },
      "outputs": [
        {
          "data": {
            "text/plain": [
              "8000"
            ]
          },
          "execution_count": 3,
          "metadata": {},
          "output_type": "execute_result"
        }
      ],
      "source": [
        "pedido1.calcularTotal()"
      ]
    },
    {
      "cell_type": "code",
      "execution_count": 4,
      "metadata": {},
      "outputs": [
        {
          "data": {
            "text/plain": [
              "'123410081410'"
            ]
          },
          "execution_count": 4,
          "metadata": {},
          "output_type": "execute_result"
        }
      ],
      "source": [
        "pedido1.codigoPedido()"
      ]
    },
    {
      "cell_type": "markdown",
      "metadata": {},
      "source": [
        "Ahora bien, hacemos uso de la subclase e insertamos el valor del atributo; Posteriormente mandamos invocamos al metodo contenido en esta que nos permite imprimir los atributos contenidos en la factura"
      ]
    },
    {
      "cell_type": "code",
      "execution_count": 5,
      "metadata": {
        "id": "eQ1-dixHtiJz"
      },
      "outputs": [],
      "source": [
        "factura1 = Factura(1, \"Almojábana\", 4, 2000, \"Juan Felipe\", 1234, \"1008\", \"1410\")"
      ]
    },
    {
      "cell_type": "code",
      "execution_count": 6,
      "metadata": {
        "colab": {
          "base_uri": "https://localhost:8080/"
        },
        "id": "P--l0vhPt46d",
        "outputId": "5248adfa-4be5-4fd7-8726-1ab5497b330f"
      },
      "outputs": [
        {
          "name": "stdout",
          "output_type": "stream",
          "text": [
            "{'codigo_pedido': '123410081410', 'producto': 'Almojábana', 'cantidad': 4, 'total': 8000, 'precio_unitario': 2000, 'nombre_cliente': 'Juan Felipe', 'cedula_cliente': 1234}\n"
          ]
        }
      ],
      "source": [
        "factura1.imprimirFactura()"
      ]
    },
    {
      "cell_type": "markdown",
      "metadata": {},
      "source": [
        "---"
      ]
    },
    {
      "cell_type": "markdown",
      "metadata": {
        "id": "TPhLRkYAuZbm"
      },
      "source": [
        "## **Ejercicio 2** (50 pts)\n",
        "\n",
        "Realice los siguientes ejercicios con numpy\n",
        "\n",
        "1. Resolver el siguiente sistema de ecuaciones. **14 pts**\n",
        "\n",
        "$$\n",
        "2x + 3y - z + 4w + 5v = 15\n",
        "$$\n",
        "\n",
        "$$\n",
        "x - 2y + 4z - 3w + v = 6\n",
        "$$\n",
        "\n",
        "$$\n",
        "3x + 2y - 3z + 5w - 2v = 11\n",
        "$$\n",
        "\n",
        "$$\n",
        "4x + y - 2z + 3w + 2v = 8\n",
        "$$\n",
        "\n",
        "$$\n",
        "x + y + z + w + v = 7\n",
        "$$"
      ]
    },
    {
      "cell_type": "markdown",
      "metadata": {},
      "source": [
        "---\n",
        "### **Solución Ejercicio 2:** Punto 1 "
      ]
    },
    {
      "cell_type": "code",
      "execution_count": 7,
      "metadata": {
        "id": "m0FVgakVuYpX"
      },
      "outputs": [],
      "source": [
        "import numpy as np\n",
        "C = np.array([[2,3,-1,4,5],[1,-2,4,-3,1],[3,2,-3,5,-2],[4,1,-2,3,2],[1,1,1,1,1]])\n",
        "S = np.array([15,6,11,8,7])"
      ]
    },
    {
      "cell_type": "code",
      "execution_count": 8,
      "metadata": {
        "colab": {
          "base_uri": "https://localhost:8080/"
        },
        "id": "8gu89-aP5ibM",
        "outputId": "062b995d-c535-4787-9212-9db62a7ac49e"
      },
      "outputs": [
        {
          "data": {
            "text/plain": [
              "array([-1.67741935, -7.87096774,  5.12903226, 10.        ,  1.41935484])"
            ]
          },
          "execution_count": 8,
          "metadata": {},
          "output_type": "execute_result"
        }
      ],
      "source": [
        "solucion = np.linalg.solve(C,S)\n",
        "solucion"
      ]
    },
    {
      "cell_type": "markdown",
      "metadata": {},
      "source": [
        "Ahora meidiante el producto punto entre `Solucion` y la matriz `C` nos debe de dar como reusltado `S`"
      ]
    },
    {
      "cell_type": "code",
      "execution_count": 9,
      "metadata": {},
      "outputs": [
        {
          "data": {
            "text/plain": [
              "array([15.,  6., 11.,  8.,  7.])"
            ]
          },
          "execution_count": 9,
          "metadata": {},
          "output_type": "execute_result"
        }
      ],
      "source": [
        "S = np.dot(C, solucion)\n",
        "S"
      ]
    },
    {
      "cell_type": "markdown",
      "metadata": {},
      "source": [
        "---"
      ]
    },
    {
      "cell_type": "markdown",
      "metadata": {
        "id": "fIJWHfqiweGG"
      },
      "source": [
        "2. Calcule el valor del número de Euler o constante de Napier $e = 2,71828$ como:\n",
        "\n",
        "$$e = \\sum_i ^{\\infty} \\frac{1}{i!}$$\n",
        "\n",
        "  ¿Qué precisión en términos de el número de términos necesita para dar cuenta de los primeros 5 números de la coma decimal? **20 pts**\n",
        "  \n",
        "  **Remark**: Requerirá de algo de creatividad para calcular el factorial sin el uso de ciclos for ni recursividad, siéntase libre de buscar en internet, sin embargo recuerde tratar que su cálculo sea vectorizado."
      ]
    },
    {
      "cell_type": "markdown",
      "metadata": {},
      "source": [
        "---\n",
        "### **Solución Ejercicio 2:** Punto 1 "
      ]
    },
    {
      "cell_type": "markdown",
      "metadata": {},
      "source": [
        "Utilizamos dos soluciones para este ejercicio; La primera (*euler1*) creando una funcion llamada factorial que permite obtener el factorial del numero; La segunda (*euler2*) solución hace uso de la libreria math, mediante la cual se emplea la función factorial contenida en la misma. "
      ]
    },
    {
      "cell_type": "markdown",
      "metadata": {},
      "source": [
        "#### Primera euler1()"
      ]
    },
    {
      "cell_type": "code",
      "execution_count": 10,
      "metadata": {
        "id": "wQ6PBGypwe9i"
      },
      "outputs": [],
      "source": [
        "import numpy as np\n",
        "\n",
        "def factorial(n):\n",
        "  return np.prod(np.arange(1,n+1))\n",
        "\n",
        "def euler1(i):\n",
        "  m = np.arange(0,i)\n",
        "  f = np.array([factorial(n) for n in m])\n",
        "  return np.sum(1/f)\n"
      ]
    },
    {
      "cell_type": "code",
      "execution_count": 20,
      "metadata": {
        "colab": {
          "base_uri": "https://localhost:8080/"
        },
        "id": "2Y5IivKg60i9",
        "outputId": "ac195648-f8fc-46b4-a760-6638393346e0"
      },
      "outputs": [
        {
          "data": {
            "text/plain": [
              "2.718281525573192"
            ]
          },
          "execution_count": 20,
          "metadata": {},
          "output_type": "execute_result"
        }
      ],
      "source": [
        "euler1(10)"
      ]
    },
    {
      "cell_type": "markdown",
      "metadata": {},
      "source": [
        "#### Segunda eurler2()"
      ]
    },
    {
      "cell_type": "code",
      "execution_count": 12,
      "metadata": {
        "id": "-VdsQNzg5fJo"
      },
      "outputs": [],
      "source": [
        "import numpy as np\n",
        "import math\n",
        "\n",
        "def euler2(i):\n",
        "  m = np.arange(0,i)\n",
        "  f = np.array([math.factorial(n) for n in m])\n",
        "  return np.sum(1/f)\n"
      ]
    },
    {
      "cell_type": "code",
      "execution_count": 13,
      "metadata": {
        "colab": {
          "base_uri": "https://localhost:8080/"
        },
        "id": "rnfRSDj71DPy",
        "outputId": "4a2f737e-b611-4fb6-9689-86dc8b47f498"
      },
      "outputs": [
        {
          "data": {
            "text/plain": [
              "2.718281525573192"
            ]
          },
          "execution_count": 13,
          "metadata": {},
          "output_type": "execute_result"
        }
      ],
      "source": [
        "euler2(10)"
      ]
    },
    {
      "cell_type": "markdown",
      "metadata": {},
      "source": [
        "En ambos casos se observa en consola que para que la función alcance los valroes  $e= 2,71828$ se debe tener un numero de $i = 10$, para que estos coincidan  "
      ]
    },
    {
      "cell_type": "markdown",
      "metadata": {},
      "source": [
        "---"
      ]
    },
    {
      "cell_type": "markdown",
      "metadata": {
        "id": "gcZR-dUO4IDd"
      },
      "source": [
        "3. Ecuentre los auto valores y auto vectores de la matriz.  **16 pts**\n",
        "\n",
        "$$\n",
        "\\begin{pmatrix}\n",
        "2 & 1 & 1 \\\\\n",
        "4 & 3 & 2 \\\\\n",
        "1 & 1 & 2 \\\\\n",
        "\\end{pmatrix}\n",
        "$$"
      ]
    },
    {
      "cell_type": "markdown",
      "metadata": {},
      "source": [
        "---\n",
        "### **Solución Ejercicio 2:** Punto 3 "
      ]
    },
    {
      "cell_type": "markdown",
      "metadata": {},
      "source": [
        "Utilizando la librería NumPy, calculamos los autovalores y autovectores de una matriz cuadrada de la siguiente manera:"
      ]
    },
    {
      "cell_type": "code",
      "execution_count": 14,
      "metadata": {
        "id": "IWsqeg7x4avB"
      },
      "outputs": [],
      "source": [
        "M = np.array([[2,1,1],[4,3,2],[1,1,2]])\n",
        "autovalor, autovector = np.linalg.eig(M)"
      ]
    },
    {
      "cell_type": "code",
      "execution_count": 15,
      "metadata": {
        "colab": {
          "base_uri": "https://localhost:8080/"
        },
        "id": "Zsw1_e5j4Ity",
        "outputId": "c403a19c-26bb-4da2-bbb3-f9d966117e52"
      },
      "outputs": [
        {
          "data": {
            "text/plain": [
              "array([5.44948974, 0.55051026, 1.        ])"
            ]
          },
          "execution_count": 15,
          "metadata": {},
          "output_type": "execute_result"
        }
      ],
      "source": [
        "autovalor"
      ]
    },
    {
      "cell_type": "code",
      "execution_count": 16,
      "metadata": {
        "colab": {
          "base_uri": "https://localhost:8080/"
        },
        "id": "xp-ZCEZv4lcw",
        "outputId": "3f691c1e-ad88-4a6c-c907-bd64b3072d81"
      },
      "outputs": [
        {
          "data": {
            "text/plain": [
              "array([[ 3.53553391e-01,  3.53553391e-01,  4.99600361e-16],\n",
              "       [ 8.66025404e-01, -8.66025404e-01, -7.07106781e-01],\n",
              "       [ 3.53553391e-01,  3.53553391e-01,  7.07106781e-01]])"
            ]
          },
          "execution_count": 16,
          "metadata": {},
          "output_type": "execute_result"
        }
      ],
      "source": [
        "autovector"
      ]
    }
  ],
  "metadata": {
    "colab": {
      "provenance": []
    },
    "kernelspec": {
      "display_name": "Python 3 (ipykernel)",
      "language": "python",
      "name": "python3"
    },
    "language_info": {
      "codemirror_mode": {
        "name": "ipython",
        "version": 3
      },
      "file_extension": ".py",
      "mimetype": "text/x-python",
      "name": "python",
      "nbconvert_exporter": "python",
      "pygments_lexer": "ipython3",
      "version": "3.8.19"
    }
  },
  "nbformat": 4,
  "nbformat_minor": 0
}
