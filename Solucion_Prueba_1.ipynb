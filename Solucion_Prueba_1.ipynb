{
  "cells": [
    {
      "cell_type": "markdown",
      "metadata": {},
      "source": [
        "<div style=\"background-color: #d1e7dd; padding: 20px; border-radius: 10px;\">\n",
        "        <h1 style=\"color: #000000;\"><b>PRUEBA 1 - SOLUCIÓN</h1>\n",
        "        <h3 style=\"color: #000000;\">Fundamentos 2024 II </h3>\n",
        "        <p style=\"font-size: 18px; color: #000000;\">\n",
        "            <b>INTEGRANTES:</b><br>\n",
        "           \n",
        "        Cristian Jiménez         CC 1020460089\n",
        "        Juan Felipe Quinto Rios  CC 1041152117\n",
        "        Veronica Arango Toro     CC 1039473234\n",
        "\n"
      ]
    },
    {
      "cell_type": "markdown",
      "metadata": {
        "id": "7vGMRorix7fJ"
      },
      "source": [
        "# **Prueba \\#1**\n",
        "\n",
        "En la siguiente pureba se evalua de manera EXCLUSIVA lo que se solicita, cualquier otra respuesta adicional a ella será valorada, más no evaluada. Entregue la prueba en un repositorio de github, o en el classroom antes de el lunes 12 de Agosto a las 00:00:00.\n",
        "\n",
        "**Incluya como encabezado los nombres de los participantes y las cédulas**\n",
        "\n"
      ]
    },
    {
      "cell_type": "markdown",
      "metadata": {},
      "source": [
        "---"
      ]
    },
    {
      "cell_type": "markdown",
      "metadata": {
        "id": "2JiTz8I9yhXB"
      },
      "source": [
        "## **Ejercicio 1** (50 pts)\n",
        "\n",
        "Escriba una clase `Pedido` que pueda ser usada para gestionar la información de los pedidos realizados a una pastelería (o carnicería o tienda de ropa o empresa que ud desee). Evite usar módulos como numpy, pandas o cualquier otro.\n",
        "\n",
        "### **Rubrica**:\n",
        "\n",
        "1. Generación de la clase que funcione correctamente con al menos 2 métodos y 2 atributos. **30 pts**.\n",
        "2. Comentarios y  documentación que sirva para quien deba usar la clase. **5 pts**.\n",
        "3. Pertinencia de la clase en el ámbito, ¿Por qué será útil esta herramienta y cómo ayudará a mejorar el negocio? esta será entregada en una celda de texto. **10 pts**.\n",
        "4. ¿Cree que se pueda construir una clase hija que ayude al proceso? Si sí constrúyala, sino, argumente por qué en una célda de código. **5 pts**."
      ]
    },
    {
      "cell_type": "markdown",
      "metadata": {},
      "source": [
        "----\n",
        "\n",
        "### **Solución Ejercicio 1**"
      ]
    },
    {
      "cell_type": "code",
      "execution_count": 10,
      "metadata": {
        "id": "AgwS8cBnx5Zc"
      },
      "outputs": [],
      "source": [
        "class Pedido:\n",
        "    def __init__(self, producto: str, cantidad: int, precio_unitario: float, nombre_cliente: str, cedula_cliente: int, fecha_pedido: str, hora_pedido: str):\n",
        "        \"\"\"\n",
        "        Constructor padre -  clase Pedido.\n",
        "\n",
        "        Parámetros:\n",
        "        producto (str): Nombre del producto.\n",
        "        cantidad (int): Cantidad de productos solicitados.\n",
        "        precio_unitario (float): Precio unitario del producto.\n",
        "        nombre_cliente (str): Nombre del cliente que realiza el pedido.\n",
        "        cedula_cliente (int): Cédula del cliente.\n",
        "        fecha_pedido (str): Fecha en la que se realiza el pedido (formato 'YYYYMMDD').\n",
        "        hora_pedido (str): Hora en la que se realiza el pedido (formato 'HHMM').\n",
        "        \"\"\"\n",
        "        self.producto = producto\n",
        "        self.cantidad = cantidad\n",
        "        self.precio_unitario = precio_unitario\n",
        "        self.nombre_cliente = nombre_cliente\n",
        "        self.cedula_cliente = cedula_cliente\n",
        "        self.fecha_pedido = fecha_pedido\n",
        "        self.hora_pedido = hora_pedido\n",
        "\n",
        "    def calcularTotal(self):\n",
        "        \"\"\"\n",
        "        Esta función calcula el total del pedido.\n",
        "\n",
        "        Retorna:\n",
        "        float: El total del pedido, calculado como la cantidad por el precio unitario.\n",
        "        \"\"\"\n",
        "        return self.cantidad * self.precio_unitario\n",
        "\n",
        "    def codigoPedido(self):\n",
        "        \"\"\"\n",
        "        Genera un código único para el pedido basado en la cédula del cliente, \n",
        "        la fecha del pedido y la hora del pedido.\n",
        "\n",
        "        Retorna:\n",
        "        str: Código único del pedido.\n",
        "        \"\"\"\n",
        "        return str(self.cedula_cliente) + str(self.fecha_pedido) + str(self.hora_pedido)\n",
        "\n",
        "class Factura(Pedido):\n",
        "    def __init__(self, factura, producto: str, cantidad: int, precio_unitario: float, nombre_cliente: str, cedula_cliente: int, fecha_pedido: str, hora_pedido: str):\n",
        "        \"\"\"\n",
        "        Constructor de la clase Factura, que hereda de la clase Pedido.\n",
        "\n",
        "        Parámetros:\n",
        "        factura: Parámetro no utilizado en la implementación actual.\n",
        "        (El resto de parámetros son heredados de la clase Pedido)\n",
        "        \"\"\"\n",
        "        Pedido.__init__(self, producto, cantidad, precio_unitario, nombre_cliente, cedula_cliente, fecha_pedido, hora_pedido)\n",
        "        self.factura = {\n",
        "            \"codigo_pedido\": self.codigoPedido(),\n",
        "            \"producto\": producto,\n",
        "            \"cantidad\": cantidad,\n",
        "            \"total\": self.calcularTotal(),\n",
        "            \"precio_unitario\": precio_unitario,\n",
        "            \"nombre_cliente\": nombre_cliente,\n",
        "            \"cedula_cliente\": cedula_cliente\n",
        "        }\n",
        "\n",
        "    def generarFactura(self):\n",
        "        \"\"\"\n",
        "        Genera una factura como un diccionario con los detalles del pedido.\n",
        "\n",
        "        Retorna:\n",
        "        dict: Diccionario que contiene los detalles de la factura, como el código del pedido,\n",
        "              producto, cantidad, total, precio unitario, nombre del cliente y cédula del cliente.\n",
        "        \"\"\"\n",
        "        return self.factura\n",
        "\n",
        "    def imprimirFactura(self):\n",
        "        \"\"\"\n",
        "        Imprime los detalles de la factura en la consola.\n",
        "        \"\"\"\n",
        "        print(self.factura)\n"
      ]
    },
    {
      "cell_type": "markdown",
      "metadata": {},
      "source": [
        "Para probar la funcionalidad de la clase insertamos los atributos bajo el contexto de una panadería y posteriormente invocamos los métodos contenidos dentro de esta clase.\n"
      ]
    },
    {
      "cell_type": "code",
      "execution_count": 11,
      "metadata": {
        "id": "GXjLcOUqjA-W"
      },
      "outputs": [],
      "source": [
        "pedido1 = Pedido(\"Almojábana\", 4, 2000, \"Juan Felipe\", 1234, \"20240810\", \"1410\")"
      ]
    },
    {
      "cell_type": "code",
      "execution_count": 12,
      "metadata": {
        "colab": {
          "base_uri": "https://localhost:8080/",
          "height": 36
        },
        "id": "4W77J0IvtbdV",
        "outputId": "9b2a7cfb-4a04-4ea3-f776-7e33ae2e3bd5"
      },
      "outputs": [
        {
          "data": {
            "text/plain": [
              "8000"
            ]
          },
          "execution_count": 12,
          "metadata": {},
          "output_type": "execute_result"
        }
      ],
      "source": [
        "pedido1.calcularTotal()"
      ]
    },
    {
      "cell_type": "code",
      "execution_count": 13,
      "metadata": {},
      "outputs": [
        {
          "data": {
            "text/plain": [
              "'1234202408101410'"
            ]
          },
          "execution_count": 13,
          "metadata": {},
          "output_type": "execute_result"
        }
      ],
      "source": [
        "pedido1.codigoPedido()"
      ]
    },
    {
      "cell_type": "markdown",
      "metadata": {},
      "source": [
        "Ahora bien, hacemos uso de la subclase e insertamos el valor del atributo, posteriormente invocamos el método que nos permite imprimir los atributos contenidos en la factura"
      ]
    },
    {
      "cell_type": "code",
      "execution_count": 14,
      "metadata": {
        "id": "eQ1-dixHtiJz"
      },
      "outputs": [],
      "source": [
        "factura1 = Factura(1, \"Almojábana\", 4, 2000, \"Juan Felipe\", 1234, \"20240810\", \"1410\")"
      ]
    },
    {
      "cell_type": "code",
      "execution_count": 15,
      "metadata": {
        "colab": {
          "base_uri": "https://localhost:8080/"
        },
        "id": "P--l0vhPt46d",
        "outputId": "5248adfa-4be5-4fd7-8726-1ab5497b330f"
      },
      "outputs": [
        {
          "name": "stdout",
          "output_type": "stream",
          "text": [
            "{'codigo_pedido': '1234202408101410', 'producto': 'Almojábana', 'cantidad': 4, 'total': 8000, 'precio_unitario': 2000, 'nombre_cliente': 'Juan Felipe', 'cedula_cliente': 1234}\n"
          ]
        }
      ],
      "source": [
        "factura1.imprimirFactura()"
      ]
    },
    {
      "cell_type": "markdown",
      "metadata": {},
      "source": [
        "**La clase Pedido y su calse hija Factura facilitarían la trazabilidad de pedidos con códigos únicos, mejorarían la atención al cliente con facturas claras, y permitirían el análisis de datos para decisiones estratégicas. Además, podrían ofrecer escalabilidad al negocio, permitiendo almacenar información de manera organizada para alimentar las bases de datos.**"
      ]
    },
    {
      "cell_type": "markdown",
      "metadata": {},
      "source": [
        "---"
      ]
    },
    {
      "cell_type": "markdown",
      "metadata": {
        "id": "TPhLRkYAuZbm"
      },
      "source": [
        "## **Ejercicio 2** (50 pts)\n",
        "\n",
        "Realice los siguientes ejercicios con numpy\n",
        "\n",
        "1. Resolver el siguiente sistema de ecuaciones. **14 pts**\n",
        "\n",
        "$$\n",
        "2x + 3y - z + 4w + 5v = 15\n",
        "$$\n",
        "\n",
        "$$\n",
        "x - 2y + 4z - 3w + v = 6\n",
        "$$\n",
        "\n",
        "$$\n",
        "3x + 2y - 3z + 5w - 2v = 11\n",
        "$$\n",
        "\n",
        "$$\n",
        "4x + y - 2z + 3w + 2v = 8\n",
        "$$\n",
        "\n",
        "$$\n",
        "x + y + z + w + v = 7\n",
        "$$"
      ]
    },
    {
      "cell_type": "markdown",
      "metadata": {},
      "source": [
        "---\n",
        "### **Solución Ejercicio 2:** Punto 1 "
      ]
    },
    {
      "cell_type": "code",
      "execution_count": 16,
      "metadata": {
        "id": "m0FVgakVuYpX"
      },
      "outputs": [
        {
          "data": {
            "text/plain": [
              "array([-1.67741935, -7.87096774,  5.12903226, 10.        ,  1.41935484])"
            ]
          },
          "execution_count": 16,
          "metadata": {},
          "output_type": "execute_result"
        }
      ],
      "source": [
        "import numpy as np\n",
        "\n",
        "# Se crea un arreglo de numpy que representa los coeficientes del sistema \n",
        "coeficientes = np.array([[2,3,-1,4,5],\n",
        "                         [1,-2,4,-3,1],\n",
        "                         [3,2,-3,5,-2],\n",
        "                         [4,1,-2,3,2],\n",
        "                         [1,1,1,1,1]])\n",
        "\n",
        "# Se define un arreglo de numpy con los términos constantes del sistema\n",
        "constantes = np.array([15,6,11,8,7])\n",
        "\n",
        "# Utilizando la función 'solve' de numpy.linalg, se calcula la solución del sistema Ax = B, donde A es el\n",
        "# arreglo de coeficientes y B es el arreglo de constantes.\n",
        "solucion = np.linalg.solve(coeficientes, constantes)\n",
        "solucion"
      ]
    },
    {
      "cell_type": "markdown",
      "metadata": {},
      "source": [
        "Para verificar que la solución es correcta, calculamos el producto matricial entre la matriz **'coeficientes'** y el vector **'solucion'** utilizando la función **'dot'** de numpy"
      ]
    },
    {
      "cell_type": "code",
      "execution_count": 17,
      "metadata": {},
      "outputs": [
        {
          "data": {
            "text/plain": [
              "array([15.,  6., 11.,  8.,  7.])"
            ]
          },
          "execution_count": 17,
          "metadata": {},
          "output_type": "execute_result"
        }
      ],
      "source": [
        "np.dot(coeficientes, solucion)"
      ]
    },
    {
      "cell_type": "markdown",
      "metadata": {},
      "source": [
        "---"
      ]
    },
    {
      "cell_type": "markdown",
      "metadata": {
        "id": "fIJWHfqiweGG"
      },
      "source": [
        "2. Calcule el valor del número de Euler o constante de Napier $e = 2,71828$ como:\n",
        "\n",
        "$$e = \\sum_{n=0} ^{\\infty} \\frac{1}{n!}$$\n",
        "\n",
        "  ¿Qué precisión en términos de el número de términos necesita para dar cuenta de los primeros 5 números de la coma decimal? **20 pts**\n",
        "  \n",
        "  **Remark**: Requerirá de algo de creatividad para calcular el factorial sin el uso de ciclos for ni recursividad, siéntase libre de buscar en internet, sin embargo recuerde tratar que su cálculo sea vectorizado."
      ]
    },
    {
      "cell_type": "markdown",
      "metadata": {},
      "source": [
        "---\n",
        "### **Solución Ejercicio 2:** Punto 1 "
      ]
    },
    {
      "cell_type": "code",
      "execution_count": 27,
      "metadata": {},
      "outputs": [],
      "source": [
        "import numpy as np\n",
        "from scipy.special import factorial\n",
        "\n",
        "def euler(N):\n",
        "    \"\"\"\n",
        "    Calcula una aproximación del número de Euler expresado como una serie de Taylor definida hasta el término N.\n",
        "\n",
        "    Parámetros:\n",
        "    N (int): Número de términos a considerar en la serie.\n",
        "\n",
        "    Retorna:\n",
        "    float: Aproximación del número de Euler.\n",
        "    \"\"\"\n",
        "    # Se crea un arreglo de numpy con los índices de la sumatoria de 0 hasta N\n",
        "    i = np.arange(0, N)\n",
        "    \n",
        "    # Se expresa cada término del arreglo como el inverso de su factorial\n",
        "    t = 1 / factorial(i)\n",
        "\n",
        "    # Se suman todos los valores calculados para obtener la aproximación de e\n",
        "    e = np.sum(t)\n",
        "\n",
        "    return e"
      ]
    },
    {
      "cell_type": "code",
      "execution_count": 29,
      "metadata": {},
      "outputs": [
        {
          "data": {
            "text/plain": [
              "2.718281525573192"
            ]
          },
          "execution_count": 29,
          "metadata": {},
          "output_type": "execute_result"
        }
      ],
      "source": [
        "euler(10)"
      ]
    },
    {
      "cell_type": "markdown",
      "metadata": {},
      "source": [
        "**Se requrió un mínimo de 10 términos en la sumatoria para obtener un precisión de los primeros 5 decimales**"
      ]
    },
    {
      "cell_type": "markdown",
      "metadata": {},
      "source": [
        "---"
      ]
    },
    {
      "cell_type": "markdown",
      "metadata": {
        "id": "gcZR-dUO4IDd"
      },
      "source": [
        "3. Ecuentre los auto valores y auto vectores de la matriz.  **16 pts**\n",
        "\n",
        "$$\n",
        "\\begin{pmatrix}\n",
        "2 & 1 & 1 \\\\\n",
        "4 & 3 & 2 \\\\\n",
        "1 & 1 & 2 \\\\\n",
        "\\end{pmatrix}\n",
        "$$"
      ]
    },
    {
      "cell_type": "markdown",
      "metadata": {},
      "source": [
        "---\n",
        "### **Solución Ejercicio 2:** Punto 3 "
      ]
    },
    {
      "cell_type": "markdown",
      "metadata": {},
      "source": [
        "Utilizando la librería NumPy, calculamos los autovalores y autovectores de una matriz cuadrada de la siguiente manera:"
      ]
    },
    {
      "cell_type": "code",
      "execution_count": 38,
      "metadata": {
        "id": "IWsqeg7x4avB"
      },
      "outputs": [
        {
          "name": "stdout",
          "output_type": "stream",
          "text": [
            "[5.44948974 0.55051026 1.        ]\n",
            "\n",
            "[[ 3.53553391e-01  3.53553391e-01  1.11022302e-16]\n",
            " [ 8.66025404e-01 -8.66025404e-01 -7.07106781e-01]\n",
            " [ 3.53553391e-01  3.53553391e-01  7.07106781e-01]]\n"
          ]
        }
      ],
      "source": [
        "# Se crea un arreglo de numpy para representar la matriz dada\n",
        "M = np.array([[2,1,1],\n",
        "              [4,3,2],\n",
        "              [1,1,2]])\n",
        "\n",
        "# Utilizando la función 'eig' de numpy.linalg se calculan los autovalores y autovectores asociados a la matriz\n",
        "autovalores, autovectores = np.linalg.eig(M)\n",
        "\n",
        "print(autovalores)\n",
        "print('')\n",
        "print(autovectores)"
      ]
    }
  ],
  "metadata": {
    "colab": {
      "provenance": []
    },
    "kernelspec": {
      "display_name": "Python 3 (ipykernel)",
      "language": "python",
      "name": "python3"
    },
    "language_info": {
      "codemirror_mode": {
        "name": "ipython",
        "version": 3
      },
      "file_extension": ".py",
      "mimetype": "text/x-python",
      "name": "python",
      "nbconvert_exporter": "python",
      "pygments_lexer": "ipython3",
      "version": "3.12.2"
    }
  },
  "nbformat": 4,
  "nbformat_minor": 0
}
