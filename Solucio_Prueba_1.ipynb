{
  "cells": [
    {
      "cell_type": "markdown",
      "source": [
        "Integrantes:\n",
        "\n",
        "**Cristian Jiménez** C.C.1020460089\n",
        "\n",
        "**Juan Felipe Quinto Rios** C.C.1041152117\n",
        "\n",
        "**Veronica Arango Toro** C.C. 1039473234\n"
      ],
      "metadata": {
        "id": "pEK4sk867XUR"
      }
    },
    {
      "cell_type": "markdown",
      "metadata": {
        "id": "7vGMRorix7fJ"
      },
      "source": [
        "# **Prueba \\#1**\n",
        "\n",
        "En la siguiente pureba se evalua de manera EXCLUSIVA lo que se solicita, cualquier otra respuesta adicional a ella será valorada, más no evaluada. Entregue la prueba en un repositorio de github, o en el classroom antes de el lunes 12 de Agosto a las 00:00:00.\n",
        "\n",
        "**Incluya como encabezado los nombres de los participantes y las cédulas**\n",
        "\n"
      ]
    },
    {
      "cell_type": "markdown",
      "metadata": {
        "id": "2JiTz8I9yhXB"
      },
      "source": [
        "## **Ejercicio 1** (50 pts)\n",
        "\n",
        "Escriba una clase `Pedido` que pueda ser usada para gestionar la información de los pedidos realizados a una pastelería (o carnicería o tienda de ropa o empresa que ud desee). Evite usar módulos como numpy, pandas o cualquier otro.\n",
        "\n",
        "### **Rubrica**:\n",
        "\n",
        "1. Generación de la clase que funcione correctamente con al menos 2 métodos y 2 atributos. **30 pts**.\n",
        "2. Comentarios y  documentación que sirva para quien deba usar la clase. **5 pts**.\n",
        "3. Pertinencia de la clase en el ámbito, ¿Por qué será útil esta herramienta y cómo ayudará a mejorar el negocio? esta será entregada en una celda de texto. **10 pts**.\n",
        "4. ¿Cree que se pueda construir una clase hija que ayude al proceso? Si sí constrúyala, sino, argumente por qué en una célda de código. **5 pts**."
      ]
    },
    {
      "cell_type": "code",
      "execution_count": null,
      "metadata": {
        "id": "AgwS8cBnx5Zc"
      },
      "outputs": [],
      "source": [
        "class Pedido():\n",
        "  def __init__(self, producto: str, cantidad: int, precio_unitario: float, nombre_cliente: str, cedula_cliente: int, fecha_pedido:str , hora_pedido:str): ##\n",
        "    self.producto = producto\n",
        "    self.cantidad = cantidad\n",
        "    self.precio_unitario = precio_unitario\n",
        "    self.nombre_cliente = nombre_cliente\n",
        "    self.cedula_cliente = cedula_cliente\n",
        "    self.fecha_pedido = fecha_pedido\n",
        "    self.hora_pedido = hora_pedido\n",
        "\n",
        "  def calcularTotal(self):\n",
        "    return self.cantidad * self.precio_unitario\n",
        "\n",
        "  def codigoPedido(self):\n",
        "    return str(self.cedula_cliente) + str(self.fecha_pedido) + str(self.hora_pedido)\n",
        "\n",
        "class Factura(Pedido):\n",
        "  def __init__(self, factura, producto: str, cantidad: int, precio_unitario: float, nombre_cliente: str, cedula_cliente: int, fecha_pedido:str , hora_pedido:str):\n",
        "    Pedido.__init__(self, producto, cantidad, precio_unitario, nombre_cliente, cedula_cliente, fecha_pedido , hora_pedido)\n",
        "    self.factura ={\n",
        "          \"codigo_pedido\": self.codigoPedido(),\n",
        "          \"producto\": producto,\n",
        "          \"cantidad\": cantidad,\n",
        "          \"total\" : self.calcularTotal(),\n",
        "          \"precio_unitario\": precio_unitario,\n",
        "          \"nombre_cliente\": nombre_cliente,\n",
        "          \"cedula_cliente\": cedula_cliente\n",
        "      }\n",
        "\n",
        "  def generarFactura(self):\n",
        "    return self.factura\n",
        "\n",
        "  def imprimirFactura(self):\n",
        "    print(self.factura)"
      ]
    },
    {
      "cell_type": "code",
      "source": [
        "pedido1 = Pedido(\"Almojábana\", 4, 2000, \"Juan Felipe\", 1234, \"1008\", \"1410\")"
      ],
      "metadata": {
        "id": "GXjLcOUqjA-W"
      },
      "execution_count": null,
      "outputs": []
    },
    {
      "cell_type": "code",
      "source": [
        "pedido1.codigoPedido()"
      ],
      "metadata": {
        "colab": {
          "base_uri": "https://localhost:8080/",
          "height": 36
        },
        "id": "4W77J0IvtbdV",
        "outputId": "9b2a7cfb-4a04-4ea3-f776-7e33ae2e3bd5"
      },
      "execution_count": null,
      "outputs": [
        {
          "output_type": "execute_result",
          "data": {
            "text/plain": [
              "'123410081410'"
            ],
            "application/vnd.google.colaboratory.intrinsic+json": {
              "type": "string"
            }
          },
          "metadata": {},
          "execution_count": 8
        }
      ]
    },
    {
      "cell_type": "code",
      "source": [
        "factura1 = Factura(1, \"Almojábana\", 4, 2000, \"Juan Felipe\", 1234, \"1008\", \"1410\")"
      ],
      "metadata": {
        "id": "eQ1-dixHtiJz"
      },
      "execution_count": null,
      "outputs": []
    },
    {
      "cell_type": "code",
      "source": [
        "factura1.imprimirFactura()"
      ],
      "metadata": {
        "colab": {
          "base_uri": "https://localhost:8080/"
        },
        "id": "P--l0vhPt46d",
        "outputId": "5248adfa-4be5-4fd7-8726-1ab5497b330f"
      },
      "execution_count": null,
      "outputs": [
        {
          "output_type": "stream",
          "name": "stdout",
          "text": [
            "{'codigo_pedido': '123410081410', 'producto': 'Almojábana', 'cantidad': 4, 'total': 8000, 'precio_unitario': 2000, 'nombre_cliente': 'Juan Felipe', 'cedula_cliente': 1234}\n"
          ]
        }
      ]
    },
    {
      "cell_type": "markdown",
      "metadata": {
        "id": "pnfosm2l12c5"
      },
      "source": [
        "## **Ejercicio 2** (50 pts)\n",
        "\n",
        "Realice los siguientes ejercicios con numpy\n",
        "\n",
        "1. Resolver el siguiente sistema de ecuaciones. **14 pts**\n",
        "\n",
        "$$\n",
        "2x + 3y - z + 4w + 5v = 15\n",
        "$$\n",
        "\n",
        "$$\n",
        "x - 2y + 4z - 3w + v = 6\n",
        "$$\n",
        "\n",
        "$$\n",
        "3x + 2y - 3z + 5w - 2v = 11\n",
        "$$\n",
        "\n",
        "$$\n",
        "4x + y - 2z + 3w + 2v = 8\n",
        "$$\n",
        "\n",
        "$$\n",
        "x + y + z + w + v = 7\n",
        "$$\n",
        "\n",
        "2. Calcule el valor del número de Euler o constante de Napier $e = 2,71828$ como:\n",
        "\n",
        "$$e = \\sum_i ^{\\infty} \\frac{1}{n!}$$\n",
        "\n",
        "  ¿Qué precisión en términos de el número de términos necesita para dar cuenta de los primeros 5 números de la coma decimal? **20 pts**\n",
        "  \n",
        "  **Remark**: Requerirá de algo de creatividad para calcular el factorial sin el uso de ciclos for ni recursividad, siéntase libre de buscar en internet, sin embargo recuerde tratar que su cálculo sea vectorizado.\n",
        "\n",
        "3. Ecuentre los auto valores y auto vectores de la matriz.  **16 pts**\n",
        "\n",
        "$$\n",
        "\\begin{pmatrix}\n",
        "2 & 1 & 1 \\\\\n",
        "4 & 3 & 2 \\\\\n",
        "1 & 1 & 2 \\\\\n",
        "\\end{pmatrix}\n",
        "$$\n",
        "\n"
      ]
    },
    {
      "cell_type": "markdown",
      "source": [
        "## **Ejercicio 2** (50 pts)\n",
        "\n",
        "Realice los siguientes ejercicios con numpy\n",
        "\n",
        "1. Resolver el siguiente sistema de ecuaciones. **14 pts**\n",
        "\n",
        "$$\n",
        "2x + 3y - z + 4w + 5v = 15\n",
        "$$\n",
        "\n",
        "$$\n",
        "x - 2y + 4z - 3w + v = 6\n",
        "$$\n",
        "\n",
        "$$\n",
        "3x + 2y - 3z + 5w - 2v = 11\n",
        "$$\n",
        "\n",
        "$$\n",
        "4x + y - 2z + 3w + 2v = 8\n",
        "$$\n",
        "\n",
        "$$\n",
        "x + y + z + w + v = 7\n",
        "$$"
      ],
      "metadata": {
        "id": "TPhLRkYAuZbm"
      }
    },
    {
      "cell_type": "code",
      "source": [
        "#2x + 3y - z + 4w + 5v = 15\n",
        "#x - 2y + 4z - 3w + v = 6\n",
        "#3x + 2y - 3z + 5w - 2v = 11\n",
        "#4x + y - 2z + 3w + 2v = 8\n",
        "#x + y + z + w + v = 7\n",
        "\n",
        "# genera una matriz con los coeficientes\n",
        "\n",
        "import numpy as np\n",
        "C = np.array([[2,3,-1,4,5],[1,-2,4,-3,1],[3,2,-3,5,-2],[4,1,-2,3,2],[1,1,1,1,1]])\n",
        "S = np.array([15,6,11,8,7])"
      ],
      "metadata": {
        "id": "m0FVgakVuYpX"
      },
      "execution_count": null,
      "outputs": []
    },
    {
      "cell_type": "code",
      "execution_count": null,
      "metadata": {
        "id": "8gu89-aP5ibM",
        "colab": {
          "base_uri": "https://localhost:8080/"
        },
        "outputId": "062b995d-c535-4787-9212-9db62a7ac49e"
      },
      "outputs": [
        {
          "output_type": "execute_result",
          "data": {
            "text/plain": [
              "array([-1.67741935, -7.87096774,  5.12903226, 10.        ,  1.41935484])"
            ]
          },
          "metadata": {},
          "execution_count": 18
        }
      ],
      "source": [
        "solucion = np.linalg.solve(C,S)\n",
        "solucion"
      ]
    },
    {
      "cell_type": "code",
      "source": [
        "2*-1.67741935+3* -7.87096774-  5.12903226+4* 10.        +5* 1.41935484"
      ],
      "metadata": {
        "colab": {
          "base_uri": "https://localhost:8080/"
        },
        "id": "3pYF1c_uwKAO",
        "outputId": "bf5a75ea-4d30-4966-c180-8090d1cbdec7"
      },
      "execution_count": null,
      "outputs": [
        {
          "output_type": "execute_result",
          "data": {
            "text/plain": [
              "15.000000019999996"
            ]
          },
          "metadata": {},
          "execution_count": 22
        }
      ]
    },
    {
      "cell_type": "markdown",
      "source": [
        "2. Calcule el valor del número de Euler o constante de Napier $e = 2,71828$ como:\n",
        "\n",
        "$$e = \\sum_i ^{\\infty} \\frac{1}{i!}$$\n",
        "\n",
        "  ¿Qué precisión en términos de el número de términos necesita para dar cuenta de los primeros 5 números de la coma decimal? **20 pts**\n",
        "  \n",
        "  **Remark**: Requerirá de algo de creatividad para calcular el factorial sin el uso de ciclos for ni recursividad, siéntase libre de buscar en internet, sin embargo recuerde tratar que su cálculo sea vectorizado."
      ],
      "metadata": {
        "id": "fIJWHfqiweGG"
      }
    },
    {
      "cell_type": "code",
      "source": [
        "import numpy as np\n",
        "\n",
        "def factorial(n):\n",
        "  return np.prod(np.arange(1,n+1))\n",
        "\n",
        "def euler1(i):\n",
        "  m = np.arange(0,i)\n",
        "  f = np.array([factorial(n) for n in m])\n",
        "  return np.sum(1/f)\n"
      ],
      "metadata": {
        "id": "wQ6PBGypwe9i"
      },
      "execution_count": null,
      "outputs": []
    },
    {
      "cell_type": "code",
      "source": [
        "euler1(10)"
      ],
      "metadata": {
        "colab": {
          "base_uri": "https://localhost:8080/"
        },
        "id": "2Y5IivKg60i9",
        "outputId": "ac195648-f8fc-46b4-a760-6638393346e0"
      },
      "execution_count": null,
      "outputs": [
        {
          "output_type": "execute_result",
          "data": {
            "text/plain": [
              "2.718281525573192"
            ]
          },
          "metadata": {},
          "execution_count": 84
        }
      ]
    },
    {
      "cell_type": "code",
      "source": [
        "import numpy as np\n",
        "import math\n",
        "\n",
        "def euler2(i):\n",
        "  m = np.arange(0,i)\n",
        "  f = np.array([math.factorial(n) for n in m])\n",
        "  return np.sum(1/f)\n"
      ],
      "metadata": {
        "id": "-VdsQNzg5fJo"
      },
      "execution_count": null,
      "outputs": []
    },
    {
      "cell_type": "code",
      "source": [
        "euler2(10)"
      ],
      "metadata": {
        "colab": {
          "base_uri": "https://localhost:8080/"
        },
        "id": "rnfRSDj71DPy",
        "outputId": "4a2f737e-b611-4fb6-9689-86dc8b47f498"
      },
      "execution_count": null,
      "outputs": [
        {
          "output_type": "execute_result",
          "data": {
            "text/plain": [
              "2.718281525573192"
            ]
          },
          "metadata": {},
          "execution_count": 92
        }
      ]
    },
    {
      "cell_type": "code",
      "source": [],
      "metadata": {
        "id": "P3uJTq4V0nbk"
      },
      "execution_count": null,
      "outputs": []
    },
    {
      "cell_type": "markdown",
      "source": [
        "3. Ecuentre los auto valores y auto vectores de la matriz.  **16 pts**\n",
        "\n",
        "$$\n",
        "\\begin{pmatrix}\n",
        "2 & 1 & 1 \\\\\n",
        "4 & 3 & 2 \\\\\n",
        "1 & 1 & 2 \\\\\n",
        "\\end{pmatrix}\n",
        "$$"
      ],
      "metadata": {
        "id": "gcZR-dUO4IDd"
      }
    },
    {
      "cell_type": "code",
      "source": [
        "M = np.array([[2,1,1],[4,3,2],[1,1,2]])\n",
        "autovalor, autovector = np.linalg.eig(M)"
      ],
      "metadata": {
        "id": "IWsqeg7x4avB"
      },
      "execution_count": null,
      "outputs": []
    },
    {
      "cell_type": "code",
      "source": [
        "autovalor"
      ],
      "metadata": {
        "colab": {
          "base_uri": "https://localhost:8080/"
        },
        "id": "Zsw1_e5j4Ity",
        "outputId": "c403a19c-26bb-4da2-bbb3-f9d966117e52"
      },
      "execution_count": null,
      "outputs": [
        {
          "output_type": "execute_result",
          "data": {
            "text/plain": [
              "array([5.44948974, 0.55051026, 1.        ])"
            ]
          },
          "metadata": {},
          "execution_count": 76
        }
      ]
    },
    {
      "cell_type": "code",
      "source": [
        "autovector"
      ],
      "metadata": {
        "colab": {
          "base_uri": "https://localhost:8080/"
        },
        "id": "xp-ZCEZv4lcw",
        "outputId": "3f691c1e-ad88-4a6c-c907-bd64b3072d81"
      },
      "execution_count": null,
      "outputs": [
        {
          "output_type": "execute_result",
          "data": {
            "text/plain": [
              "array([[ 3.53553391e-01,  3.53553391e-01,  6.66133815e-16],\n",
              "       [ 8.66025404e-01, -8.66025404e-01, -7.07106781e-01],\n",
              "       [ 3.53553391e-01,  3.53553391e-01,  7.07106781e-01]])"
            ]
          },
          "metadata": {},
          "execution_count": 77
        }
      ]
    },
    {
      "cell_type": "code",
      "source": [],
      "metadata": {
        "id": "FS6yhTLR4nGY"
      },
      "execution_count": null,
      "outputs": []
    }
  ],
  "metadata": {
    "colab": {
      "provenance": []
    },
    "kernelspec": {
      "display_name": "Python 3 (ipykernel)",
      "language": "python",
      "name": "python3"
    },
    "language_info": {
      "codemirror_mode": {
        "name": "ipython",
        "version": 3
      },
      "file_extension": ".py",
      "mimetype": "text/x-python",
      "name": "python",
      "nbconvert_exporter": "python",
      "pygments_lexer": "ipython3",
      "version": "3.10.12"
    }
  },
  "nbformat": 4,
  "nbformat_minor": 0
}